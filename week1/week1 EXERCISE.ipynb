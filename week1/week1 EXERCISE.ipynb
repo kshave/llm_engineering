{
 "cells": [
  {
   "cell_type": "markdown",
   "id": "fe12c203-e6a6-452c-a655-afb8a03a4ff5",
   "metadata": {},
   "source": [
    "# End of week 1 exercise\n",
    "\n",
    "To demonstrate your familiarity with OpenAI API, and also Ollama, build a tool that takes a technical question,  \n",
    "and responds with an explanation. This is a tool that you will be able to use yourself during the course!"
   ]
  },
  {
   "cell_type": "code",
   "execution_count": 1,
   "id": "c1070317-3ed9-4659-abe3-828943230e03",
   "metadata": {},
   "outputs": [],
   "source": [
    "# imports\n",
    "import ollama\n",
    "from openai import OpenAI\n",
    "from IPython.display import Markdown, display\n",
    "from dotenv import load_dotenv\n",
    "import os"
   ]
  },
  {
   "cell_type": "code",
   "execution_count": 4,
   "id": "4a456906-915a-4bfd-bb9d-57e505c5093f",
   "metadata": {},
   "outputs": [],
   "source": [
    "# constants\n",
    "\n",
    "MODEL_GPT = 'gpt-4o-mini'\n",
    "MODEL_LLAMA = 'llama3.2:1b'"
   ]
  },
  {
   "cell_type": "code",
   "execution_count": 5,
   "id": "a8d7923c-5f28-4c30-8556-342d7c8497c1",
   "metadata": {},
   "outputs": [],
   "source": [
    "# set up environment\n",
    "load_dotenv(override=True)\n",
    "api_key = os.getenv('OPENAI_API_KEY')\n",
    "openai = OpenAI()"
   ]
  },
  {
   "cell_type": "code",
   "execution_count": 6,
   "id": "3f0d0137-52b0-47a8-81a8-11a90a010798",
   "metadata": {},
   "outputs": [],
   "source": [
    "# here is the question; type over this to ask something new\n",
    "\n",
    "question = \"\"\"\n",
    "Please explain what this code does and why:\n",
    "yield from {book.get(\"author\") for book in books if book.get(\"author\")}\n",
    "\"\"\""
   ]
  },
  {
   "cell_type": "code",
   "execution_count": 7,
   "id": "ad320ed3-4c9d-44a1-ad89-5adda109f1bf",
   "metadata": {},
   "outputs": [],
   "source": [
    "# Setup messages and system prompt\n",
    "system_prompt = \"You are a technical assistant that will recieve a technical coding question.\\\n",
    "Please respond with the answer to the question to the best of your ability. Make sure your\\\n",
    "answers are well structured and easy to understand. Please respond in markdown format.\"\n"
   ]
  },
  {
   "cell_type": "code",
   "execution_count": 24,
   "id": "60ce7000-a4a5-4cce-a261-e75ef45063b4",
   "metadata": {},
   "outputs": [],
   "source": [
    "# Get gpt-4o-mini to answer, with streaming\n",
    "class OpenAIWrapper:\n",
    "    def __init__(self, model, system_prompt):\n",
    "        self.model=model\n",
    "        self.system_prompt = system_prompt\n",
    "\n",
    "    \n",
    "    def query(self, user_prompt):\n",
    "        messages = [\n",
    "            {\"role\": \"system\", \"content\": self.system_prompt},\n",
    "            {\"role\": \"user\", \"content\": user_prompt},\n",
    "        ]\n",
    "        response = openai.chat.completions.create(\n",
    "                model = self.model,\n",
    "                messages = messages\n",
    "            )\n",
    "        display(Markdown(response.choices[0].message.content))"
   ]
  },
  {
   "cell_type": "code",
   "execution_count": 25,
   "id": "8f7c8ea8-4082-4ad0-8751-3301adcf6538",
   "metadata": {},
   "outputs": [],
   "source": [
    "# Get Llama 3.2 to answer\n",
    "class OllamaWrapper:\n",
    "    def __init__(self, model, system_prompt):\n",
    "        self.model = model\n",
    "        self.system_prompt = system_prompt\n",
    "        \n",
    "    \n",
    "    def query(self, user_prompt):\n",
    "        messages = [\n",
    "            {\"role\": \"system\", \"content\": self.system_prompt},\n",
    "            {\"role\": \"user\", \"content\": user_prompt},\n",
    "        ]\n",
    "        \n",
    "        response = ollama.chat(\n",
    "            model=self.model, \n",
    "            messages=messages,\n",
    "        )\n",
    "        display(Markdown(response['message']['content']))"
   ]
  },
  {
   "cell_type": "code",
   "execution_count": 26,
   "id": "88c18b5a-89b9-4695-a5b9-3ddfee3a0646",
   "metadata": {},
   "outputs": [],
   "source": [
    "ollama_oracle = OllamaWrapper(MODEL_LLAMA, system_prompt)\n",
    "openai_oracle = OpenAIWrapper(MODEL_GPT, system_prompt)"
   ]
  },
  {
   "cell_type": "code",
   "execution_count": 27,
   "id": "c22e3db5-d4e7-4a9e-8527-2d4482fb8990",
   "metadata": {},
   "outputs": [
    {
     "data": {
      "text/markdown": [
       "### Code Explanation\n",
       "\n",
       "The given code snippet is written in Python and utilizes a technique called \"generator expression\" with the `yield` keyword.\n",
       "\n",
       "```python\n",
       "yield from {book.get(\"author\") for book in books if book.get(\"author\")}\n",
       "```\n",
       "\n",
       "Here's a step-by-step breakdown of what this code does:\n",
       "\n",
       "1. `{}` represents an empty dictionary.\n",
       "2. `for book in books` iterates over each book in the `books` list.\n",
       "3. `if book.get(\"author\")` filters out any books that do not have an \"author\" key.\n",
       "4. `book.get(\"author\")` attempts to retrieve the value of the \"author\" key from each remaining book.\n",
       "\n",
       "### What is a generator?\n",
       "\n",
       "A generator is a special type of function in Python that can be used to generate a sequence (like a list or a string) instead of computing it all at once and returning it in memory. When you use `yield` with a generator, the code does not return anything until the next iteration.\n",
       "\n",
       "### Why is this code useful?\n",
       "\n",
       "This code snippet utilizes a technique called \"lazy evaluation\" which means that it doesn't load all values into memory at once. This is particularly useful when working with large datasets.\n",
       "\n",
       "Here's an example use case:\n",
       "\n",
       "```python\n",
       "books = [{\"id\": 1, \"title\": \"Book A\"}, {\"id\": 2, \"title\": \"Book B\"}]\n",
       "\n",
       "for book in yield from {book.get(\"author\") for book in books if book.get(\"author\")}:\n",
       "    print(book)\n",
       "```\n",
       "\n",
       "In this example, instead of loading all authors into memory at once (which would be impractical for large datasets), the code iterates over each author and retrieves their name on demand. This can significantly improve performance when working with big datasets.\n",
       "\n",
       "### Code Example\n",
       "\n",
       "Here's a more complete Python script that demonstrates how to use this technique:\n",
       "\n",
       "```python\n",
       "class Book:\n",
       "    def __init__(self, id, title):\n",
       "        self.id = id\n",
       "        self.title = title\n",
       "\n",
       "    def get(self, key):\n",
       "        return getattr(self, key)\n",
       "\n",
       "books = [\n",
       "    Book(1, \"Book A\"),\n",
       "    Book(2, \"Book B\")\n",
       "]\n",
       "\n",
       "for author in yield from {book.get(\"author\") for book in books if book.get(\"author\")}:\n",
       "    print(f\"Author: {author.title}\")\n",
       "```\n",
       "\n",
       "This code defines a `Book` class with an `id` and `title`, and overloads the `get()` method to retrieve these values. It then uses a generator expression to iterate over each author, yielding their name on demand.\n",
       "\n",
       "When run, this script will print:\n",
       "\n",
       "```\n",
       "Author: Book A\n",
       "Author: Book B\n",
       "```"
      ],
      "text/plain": [
       "<IPython.core.display.Markdown object>"
      ]
     },
     "metadata": {},
     "output_type": "display_data"
    }
   ],
   "source": [
    "ollama_oracle.query(question)"
   ]
  },
  {
   "cell_type": "code",
   "execution_count": 28,
   "id": "ce680d82-9eb3-47e7-8363-4b15c13326af",
   "metadata": {},
   "outputs": [
    {
     "data": {
      "text/markdown": [
       "Certainly! Let's break down the provided code snippet step by step.\n",
       "\n",
       "### Code Explanation\n",
       "\n",
       "```python\n",
       "yield from {book.get(\"author\") for book in books if book.get(\"author\")}\n",
       "```\n",
       "\n",
       "#### Components of the Code\n",
       "\n",
       "1. **Set Comprehension**: \n",
       "   - `{book.get(\"author\") for book in books if book.get(\"author\")}`\n",
       "   - This part of the code is a **set comprehension**, which creates a set of authors from a collection called `books`.\n",
       "   - `book.get(\"author\")`: For each `book` in the `books` collection, it tries to access the value associated with the key `\"author\"`. If the key exists, it retrieves the author's name; if not, it returns `None`.\n",
       "   - `if book.get(\"author\")`: This condition ensures that only books with a valid (non-`None`, non-empty) author are included in the set.\n",
       "   - The final result is a set of unique author names.\n",
       "\n",
       "2. **`yield from`**: \n",
       "   - `yield from <iterable>`\n",
       "   - This Python keyword is used to yield values from an iterable. It simplifies the process of yielding all values from a sub-generator or iterable without needing to explicitly loop over it.\n",
       "   - In this case, it yields each author name in the set generated by the comprehension. \n",
       "\n",
       "### Purpose of the Code\n",
       "\n",
       "The purpose of this code snippet is to yield unique author names from a collection of books (`books`). Here's why it is useful:\n",
       "\n",
       "- **Uniqueness**: By using a set comprehension, the code ensures that each author is yielded only once, even if multiple books have the same author.\n",
       "- **Filtering**: The filtering condition (`if book.get(\"author\")`) guarantees that only authors that are present (i.e., not `None` or empty) are considered, enhancing data integrity.\n",
       "- **Generator Functionality**: Using `yield from` makes it easy to return all values to the caller in a concise manner, allowing the code to function as a generator that can be iterated over to get each author.\n",
       "\n",
       "### Summary\n",
       "\n",
       "In summary, this line of code creates a set of unique authors from a list of books while ensuring that only valid authors are included and yields each author through a generator. This is a powerful and efficient way to handle data extraction when working with collections."
      ],
      "text/plain": [
       "<IPython.core.display.Markdown object>"
      ]
     },
     "metadata": {},
     "output_type": "display_data"
    }
   ],
   "source": [
    "openai_oracle.query(question)"
   ]
  }
 ],
 "metadata": {
  "kernelspec": {
   "display_name": "Python 3 (ipykernel)",
   "language": "python",
   "name": "python3"
  },
  "language_info": {
   "codemirror_mode": {
    "name": "ipython",
    "version": 3
   },
   "file_extension": ".py",
   "mimetype": "text/x-python",
   "name": "python",
   "nbconvert_exporter": "python",
   "pygments_lexer": "ipython3",
   "version": "3.11.11"
  }
 },
 "nbformat": 4,
 "nbformat_minor": 5
}
