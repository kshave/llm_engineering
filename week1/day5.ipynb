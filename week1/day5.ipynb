{
 "cells": [
  {
   "cell_type": "markdown",
   "id": "a98030af-fcd1-4d63-a36e-38ba053498fa",
   "metadata": {},
   "source": [
    "# A full business solution\n",
    "\n",
    "## Now we will take our project from Day 1 to the next level\n",
    "\n",
    "### BUSINESS CHALLENGE:\n",
    "\n",
    "Create a product that builds a Brochure for a company to be used for prospective clients, investors and potential recruits.\n",
    "\n",
    "We will be provided a company name and their primary website.\n",
    "\n",
    "See the end of this notebook for examples of real-world business applications.\n",
    "\n",
    "And remember: I'm always available if you have problems or ideas! Please do reach out."
   ]
  },
  {
   "cell_type": "code",
   "execution_count": 1,
   "id": "d5b08506-dc8b-4443-9201-5f1848161363",
   "metadata": {},
   "outputs": [],
   "source": [
    "# imports\n",
    "# If these fail, please check you're running from an 'activated' environment with (llms) in the command prompt\n",
    "\n",
    "import os\n",
    "import requests\n",
    "import json\n",
    "from typing import List\n",
    "from dotenv import load_dotenv\n",
    "from bs4 import BeautifulSoup\n",
    "from IPython.display import Markdown, display, update_display\n",
    "from openai import OpenAI"
   ]
  },
  {
   "cell_type": "code",
   "execution_count": 2,
   "id": "fc5d8880-f2ee-4c06-af16-ecbc0262af61",
   "metadata": {},
   "outputs": [
    {
     "name": "stdout",
     "output_type": "stream",
     "text": [
      "API key looks good so far\n"
     ]
    }
   ],
   "source": [
    "# Initialize and constants\n",
    "\n",
    "load_dotenv(override=True)\n",
    "api_key = os.getenv('OPENAI_API_KEY')\n",
    "\n",
    "if api_key and api_key.startswith('sk-proj-') and len(api_key)>10:\n",
    "    print(\"API key looks good so far\")\n",
    "else:\n",
    "    print(\"There might be a problem with your API key? Please visit the troubleshooting notebook!\")\n",
    "    \n",
    "MODEL = 'gpt-4o-mini'\n",
    "openai = OpenAI()"
   ]
  },
  {
   "cell_type": "code",
   "execution_count": 3,
   "id": "106dd65e-90af-4ca8-86b6-23a41840645b",
   "metadata": {},
   "outputs": [],
   "source": [
    "# A class to represent a Webpage\n",
    "\n",
    "# Some websites need you to use proper headers when fetching them:\n",
    "headers = {\n",
    " \"User-Agent\": \"Mozilla/5.0 (Windows NT 10.0; Win64; x64) AppleWebKit/537.36 (KHTML, like Gecko) Chrome/117.0.0.0 Safari/537.36\"\n",
    "}\n",
    "\n",
    "class Website:\n",
    "    \"\"\"\n",
    "    A utility class to represent a Website that we have scraped, now with links\n",
    "    \"\"\"\n",
    "\n",
    "    def __init__(self, url):\n",
    "        self.url = url\n",
    "        response = requests.get(url, headers=headers)\n",
    "        self.body = response.content\n",
    "        soup = BeautifulSoup(self.body, 'html.parser')\n",
    "        self.title = soup.title.string if soup.title else \"No title found\"\n",
    "        if soup.body:\n",
    "            for irrelevant in soup.body([\"script\", \"style\", \"img\", \"input\"]):\n",
    "                irrelevant.decompose()\n",
    "            self.text = soup.body.get_text(separator=\"\\n\", strip=True)\n",
    "        else:\n",
    "            self.text = \"\"\n",
    "        links = [link.get('href') for link in soup.find_all('a')]\n",
    "        self.links = [link for link in links if link]\n",
    "\n",
    "    def get_contents(self):\n",
    "        return f\"Webpage Title:\\n{self.title}\\nWebpage Contents:\\n{self.text}\\n\\n\""
   ]
  },
  {
   "cell_type": "code",
   "execution_count": 4,
   "id": "e30d8128-933b-44cc-81c8-ab4c9d86589a",
   "metadata": {},
   "outputs": [
    {
     "data": {
      "text/plain": [
       "['https://edwarddonner.com/',\n",
       " 'https://edwarddonner.com/outsmart/',\n",
       " 'https://edwarddonner.com/about-me-and-about-nebula/',\n",
       " 'https://edwarddonner.com/posts/',\n",
       " 'https://edwarddonner.com/',\n",
       " 'https://news.ycombinator.com',\n",
       " 'https://nebula.io/?utm_source=ed&utm_medium=referral',\n",
       " 'https://www.prnewswire.com/news-releases/wynden-stark-group-acquires-nyc-venture-backed-tech-startup-untapt-301269512.html',\n",
       " 'https://patents.google.com/patent/US20210049536A1/',\n",
       " 'https://www.linkedin.com/in/eddonner/',\n",
       " 'https://edwarddonner.com/2025/01/23/llm-workshop-hands-on-with-agents-resources/',\n",
       " 'https://edwarddonner.com/2025/01/23/llm-workshop-hands-on-with-agents-resources/',\n",
       " 'https://edwarddonner.com/2024/12/21/llm-resources-superdatascience/',\n",
       " 'https://edwarddonner.com/2024/12/21/llm-resources-superdatascience/',\n",
       " 'https://edwarddonner.com/2024/11/13/llm-engineering-resources/',\n",
       " 'https://edwarddonner.com/2024/11/13/llm-engineering-resources/',\n",
       " 'https://edwarddonner.com/2024/10/16/from-software-engineer-to-ai-data-scientist-resources/',\n",
       " 'https://edwarddonner.com/2024/10/16/from-software-engineer-to-ai-data-scientist-resources/',\n",
       " 'https://edwarddonner.com/',\n",
       " 'https://edwarddonner.com/outsmart/',\n",
       " 'https://edwarddonner.com/about-me-and-about-nebula/',\n",
       " 'https://edwarddonner.com/posts/',\n",
       " 'mailto:hello@mygroovydomain.com',\n",
       " 'https://www.linkedin.com/in/eddonner/',\n",
       " 'https://twitter.com/edwarddonner',\n",
       " 'https://www.facebook.com/edward.donner.52']"
      ]
     },
     "execution_count": 4,
     "metadata": {},
     "output_type": "execute_result"
    }
   ],
   "source": [
    "ed = Website(\"https://edwarddonner.com\")\n",
    "ed.links"
   ]
  },
  {
   "cell_type": "code",
   "execution_count": 22,
   "id": "bba29808-fb6b-44a3-a6c7-fa836a7bef4c",
   "metadata": {},
   "outputs": [
    {
     "data": {
      "text/plain": [
       "['https://www.nvidia.com',\n",
       " '#page-content',\n",
       " 'https://www.nvidia.com/en-gb/',\n",
       " 'https://www.nvidia.com/en-gb/geforce/graphics-cards/50-series/',\n",
       " 'https://www.nvidia.com/en-gb/geforce/laptops/50-series/',\n",
       " 'https://www.nvidia.com/en-gb/geforce/products/g-sync-monitors/',\n",
       " 'https://www.nvidia.com/en-gb/studio/laptops-desktops/',\n",
       " 'https://www.nvidia.com/en-gb/shield/',\n",
       " 'https://www.nvidia.com/en-gb/ai-on-rtx/',\n",
       " 'https://www.nvidia.com/en-gb/geforce/laptops/50-series/',\n",
       " 'https://www.nvidia.com/en-gb/design-visualization/rtx-professional-laptops/',\n",
       " 'https://www.nvidia.com/en-gb/design-visualization/desktop-graphics/',\n",
       " 'https://www.nvidia.com/en-gb/project-digits/',\n",
       " 'https://www.nvidia.com/en-gb/ai-data-science/workstations/',\n",
       " 'https://www.nvidia.com/en-gb/data-center/',\n",
       " 'https://www.nvidia.com/en-gb/data-center/grace-cpu/',\n",
       " 'https://www.nvidia.com/en-gb/data-center/dgx-platform/',\n",
       " 'https://www.nvidia.com/en-gb/data-center/products/egx/',\n",
       " 'https://www.nvidia.com/en-gb/edge-computing/products/igx/',\n",
       " 'https://www.nvidia.com/en-gb/data-center/hgx/',\n",
       " 'https://www.nvidia.com/en-gb/data-center/products/mgx/',\n",
       " 'https://www.nvidia.com/en-gb/omniverse/platform/ovx/',\n",
       " 'https://www.nvidia.com/en-gb/self-driving-cars/simulation/',\n",
       " 'https://www.nvidia.com/en-gb/networking/',\n",
       " 'https://www.nvidia.com/en-gb/networking/products/data-processing-unit/',\n",
       " 'https://www.nvidia.com/en-gb/networking/products/ethernet/',\n",
       " 'https://www.nvidia.com/en-gb/networking/products/infiniband/',\n",
       " 'https://www.nvidia.com/en-gb/geforce/graphics-cards/50-series/',\n",
       " 'https://www.nvidia.com/en-gb/design-visualization/rtx/',\n",
       " 'https://www.nvidia.com/en-gb/data-center/technologies/hopper-architecture/',\n",
       " 'https://www.nvidia.com/en-gb/autonomous-machines/embedded-systems/',\n",
       " 'https://www.nvidia.com/en-gb/self-driving-cars/in-vehicle-computing/',\n",
       " 'https://developer.nvidia.com/clara-agx-devkit',\n",
       " 'https://www.nvidia.com/en-gb/ai-data-science/products/triton-inference-server/',\n",
       " 'https://www.nvidia.com/en-gb/self-driving-cars/in-vehicle-computing/',\n",
       " 'https://developer.nvidia.com/MAXINE',\n",
       " 'https://developer.nvidia.com/culitho',\n",
       " 'https://www.nvidia.com/en-gb/ai-data-science/products/morpheus/',\n",
       " 'https://www.nvidia.com/en-gb/deep-learning-ai/software/rapids/',\n",
       " 'https://www.nvidia.com/en-gb/ai-data-science/products/cuopt/',\n",
       " 'https://www.nvidia.com/en-gb/ai-data-science/generative-ai/nemo-framework/',\n",
       " 'https://www.nvidia.com/en-gb/clara/',\n",
       " 'https://developer.nvidia.com/hpc-sdk',\n",
       " 'https://www.nvidia.com/en-gb/autonomous-machines/intelligent-video-analytics-platform/',\n",
       " 'https://developer.nvidia.com/nvidia-omniverse-platform',\n",
       " 'https://www.nvidia.com/en-gb/ai/cosmos/',\n",
       " 'https://developer.nvidia.com/isaac-ros',\n",
       " 'https://www.nvidia.com/en-gb/ai-data-science/products/riva/',\n",
       " 'https://developer.nvidia.com/aerial-sdk',\n",
       " 'https://www.nvidia.com/en-gb/accelerated-applications/',\n",
       " 'https://catalog.ngc.nvidia.com/',\n",
       " 'https://www.nvidia.com/en-gb/gpu-cloud/',\n",
       " 'https://www.nvidia.com/en-gb/omniverse/',\n",
       " 'https://www.nvidia.com/en-gb/data-center/software/',\n",
       " 'https://developer.nvidia.com/dcgm',\n",
       " 'https://www.nvidia.com/en-gb/software/nvidia-app-enterprise/',\n",
       " 'https://www.nvidia.com/en-gb/design-visualization/software/rtx-desktop-manager/',\n",
       " 'https://www.nvidia.com/en-gb/studio/software/',\n",
       " 'https://www.nvidia.com/en-gb/design-visualization/software/broadcast-app/',\n",
       " 'https://www.nvidia.com/en-gb/deep-learning-ai/solutions/data-science/workbench/',\n",
       " 'https://www.nvidia.com/en-gb/geforce-now/',\n",
       " 'https://www.nvidia.com/en-gb/geforce/geforce-experience/',\n",
       " 'https://www.nvidia.com/en-gb/geforce/broadcasting/',\n",
       " 'https://www.nvidia.com/en-gb/geforce/machinima/',\n",
       " 'https://www.nvidia.com/en-gb/geforce/rtx-remix/',\n",
       " 'https://www.nvidia.com/en-gb/studio/resources/',\n",
       " 'https://www.nvidia.com/en-gb/data-center/products/ai-enterprise/',\n",
       " 'https://developer.nvidia.com/egx-stack',\n",
       " 'https://developer.nvidia.com/cluster-management',\n",
       " 'https://www.nvidia.com/en-gb/data-center/magnum-io/',\n",
       " 'https://www.nvidia.com/en-gb/networking/products/software/',\n",
       " 'https://www.nvidia.com/en-gb/data-center/virtual-solutions/',\n",
       " 'https://www.nvidia.com/en-gb/data-center/base-command/',\n",
       " 'https://www.nvidia.com/en-gb/clara/biopharma/',\n",
       " 'https://www.nvidia.com/en-gb/ai/cosmos/',\n",
       " 'https://www.nvidia.com/en-gb/data-center/dgx-cloud/',\n",
       " 'https://www.nvidia.com/en-gb/gpu-cloud/edify/',\n",
       " 'https://www.nvidia.com/en-gb/ai-data-science/products/nemo/',\n",
       " 'https://www.nvidia.com/en-gb/omniverse/cloud/',\n",
       " 'https://docs.nvidia.com/ngc/ngc-private-registry-user-guide/index.html',\n",
       " 'https://www.nvidia.com/en-gb/ai/',\n",
       " 'https://www.nvidia.com/en-gb/solutions/ai/',\n",
       " 'https://www.nvidia.com/en-gb/solutions/ai/inference/',\n",
       " 'https://www.nvidia.com/en-gb/ai-data-science/ai-workflows/',\n",
       " 'https://www.nvidia.com/en-gb/deep-learning-ai/solutions/conversational-ai/',\n",
       " 'https://www.nvidia.com/en-gb/solutions/ai/cybersecurity/',\n",
       " 'https://www.nvidia.com/en-gb/deep-learning-ai/solutions/data-analytics/',\n",
       " 'https://www.nvidia.com/en-gb/ai-data-science/generative-ai/',\n",
       " 'https://www.nvidia.com/en-gb/deep-learning-ai/solutions/machine-learning/',\n",
       " 'https://www.nvidia.com/en-gb/deep-learning-ai/solutions/prediction-forecasting/',\n",
       " 'https://www.nvidia.com/en-gb/data-center/',\n",
       " 'https://www.nvidia.com/en-gb/accelerated-applications/',\n",
       " 'https://www.nvidia.com/en-gb/data-center/gpu-cloud-computing/',\n",
       " 'https://www.nvidia.com/en-gb/data-center/colocation-partners/',\n",
       " 'https://www.nvidia.com/en-gb/data-center/solutions/mlops/',\n",
       " 'https://www.nvidia.com/en-gb/networking/',\n",
       " 'https://www.nvidia.com/en-gb/data-center/virtual-solutions/',\n",
       " 'https://www.nvidia.com/en-gb/solutions/design-and-simulation/',\n",
       " 'https://www.nvidia.com/en-gb/solutions/cae/',\n",
       " 'https://www.nvidia.com/en-gb/omniverse/solutions/digital-twins/']"
      ]
     },
     "execution_count": 22,
     "metadata": {},
     "output_type": "execute_result"
    }
   ],
   "source": [
    "nvidia = Website(\"https://www.nvidia.com\")\n",
    "nvidia.links[:100]"
   ]
  },
  {
   "cell_type": "markdown",
   "id": "1771af9c-717a-4fca-bbbe-8a95893312c3",
   "metadata": {},
   "source": [
    "## First step: Have GPT-4o-mini figure out which links are relevant\n",
    "\n",
    "### Use a call to gpt-4o-mini to read the links on a webpage, and respond in structured JSON.  \n",
    "It should decide which links are relevant, and replace relative links such as \"/about\" with \"https://company.com/about\".  \n",
    "We will use \"one shot prompting\" in which we provide an example of how it should respond in the prompt.\n",
    "\n",
    "This is an excellent use case for an LLM, because it requires nuanced understanding. Imagine trying to code this without LLMs by parsing and analyzing the webpage - it would be very hard!\n",
    "\n",
    "Sidenote: there is a more advanced technique called \"Structured Outputs\" in which we require the model to respond according to a spec. We cover this technique in Week 8 during our autonomous Agentic AI project."
   ]
  },
  {
   "cell_type": "code",
   "execution_count": 23,
   "id": "6957b079-0d96-45f7-a26a-3487510e9b35",
   "metadata": {},
   "outputs": [],
   "source": [
    "link_system_prompt = \"You are provided with a list of links found on a webpage. \\\n",
    "You are able to decide which of the links would be most relevant to include in a brochure about the company, \\\n",
    "such as links to an About page, or a Company page, or Careers/Jobs pages.\\n\"\n",
    "link_system_prompt += \"You should respond in JSON as in this example:\"\n",
    "link_system_prompt += \"\"\"\n",
    "{\n",
    "    \"links\": [\n",
    "        {\"type\": \"about page\", \"url\": \"https://full.url/goes/here/about\"},\n",
    "        {\"type\": \"careers page\": \"url\": \"https://another.full.url/careers\"}\n",
    "    ]\n",
    "}\n",
    "\"\"\""
   ]
  },
  {
   "cell_type": "code",
   "execution_count": 6,
   "id": "b97e4068-97ed-4120-beae-c42105e4d59a",
   "metadata": {},
   "outputs": [
    {
     "name": "stdout",
     "output_type": "stream",
     "text": [
      "You are provided with a list of links found on a webpage. You are able to decide which of the links would be most relevant to include in a brochure about the company, such as links to an About page, or a Company page, or Careers/Jobs pages.\n",
      "You should respond in JSON as in this example:\n",
      "{\n",
      "    \"links\": [\n",
      "        {\"type\": \"about page\", \"url\": \"https://full.url/goes/here/about\"},\n",
      "        {\"type\": \"careers page\": \"url\": \"https://another.full.url/careers\"}\n",
      "    ]\n",
      "}\n",
      "\n"
     ]
    }
   ],
   "source": [
    "print(link_system_prompt)"
   ]
  },
  {
   "cell_type": "code",
   "execution_count": 7,
   "id": "8e1f601b-2eaf-499d-b6b8-c99050c9d6b3",
   "metadata": {},
   "outputs": [],
   "source": [
    "def get_links_user_prompt(website):\n",
    "    user_prompt = f\"Here is the list of links on the website of {website.url} - \"\n",
    "    user_prompt += \"please decide which of these are relevant web links for a brochure about the company, respond with the full https URL in JSON format. \\\n",
    "Do not include Terms of Service, Privacy, email links.\\n\"\n",
    "    user_prompt += \"Links (some might be relative links):\\n\"\n",
    "    user_prompt += \"\\n\".join(website.links)\n",
    "    return user_prompt"
   ]
  },
  {
   "cell_type": "code",
   "execution_count": 8,
   "id": "6bcbfa78-6395-4685-b92c-22d592050fd7",
   "metadata": {},
   "outputs": [
    {
     "name": "stdout",
     "output_type": "stream",
     "text": [
      "Here is the list of links on the website of https://edwarddonner.com - please decide which of these are relevant web links for a brochure about the company, respond with the full https URL in JSON format. Do not include Terms of Service, Privacy, email links.\n",
      "Links (some might be relative links):\n",
      "https://edwarddonner.com/\n",
      "https://edwarddonner.com/outsmart/\n",
      "https://edwarddonner.com/about-me-and-about-nebula/\n",
      "https://edwarddonner.com/posts/\n",
      "https://edwarddonner.com/\n",
      "https://news.ycombinator.com\n",
      "https://nebula.io/?utm_source=ed&utm_medium=referral\n",
      "https://www.prnewswire.com/news-releases/wynden-stark-group-acquires-nyc-venture-backed-tech-startup-untapt-301269512.html\n",
      "https://patents.google.com/patent/US20210049536A1/\n",
      "https://www.linkedin.com/in/eddonner/\n",
      "https://edwarddonner.com/2025/01/23/llm-workshop-hands-on-with-agents-resources/\n",
      "https://edwarddonner.com/2025/01/23/llm-workshop-hands-on-with-agents-resources/\n",
      "https://edwarddonner.com/2024/12/21/llm-resources-superdatascience/\n",
      "https://edwarddonner.com/2024/12/21/llm-resources-superdatascience/\n",
      "https://edwarddonner.com/2024/11/13/llm-engineering-resources/\n",
      "https://edwarddonner.com/2024/11/13/llm-engineering-resources/\n",
      "https://edwarddonner.com/2024/10/16/from-software-engineer-to-ai-data-scientist-resources/\n",
      "https://edwarddonner.com/2024/10/16/from-software-engineer-to-ai-data-scientist-resources/\n",
      "https://edwarddonner.com/\n",
      "https://edwarddonner.com/outsmart/\n",
      "https://edwarddonner.com/about-me-and-about-nebula/\n",
      "https://edwarddonner.com/posts/\n",
      "mailto:hello@mygroovydomain.com\n",
      "https://www.linkedin.com/in/eddonner/\n",
      "https://twitter.com/edwarddonner\n",
      "https://www.facebook.com/edward.donner.52\n"
     ]
    }
   ],
   "source": [
    "print(get_links_user_prompt(ed))"
   ]
  },
  {
   "cell_type": "code",
   "execution_count": 9,
   "id": "a29aca19-ca13-471c-a4b4-5abbfa813f69",
   "metadata": {},
   "outputs": [],
   "source": [
    "def get_links(url):\n",
    "    website = Website(url)\n",
    "    response = openai.chat.completions.create(\n",
    "        model=MODEL,\n",
    "        messages=[\n",
    "            {\"role\": \"system\", \"content\": link_system_prompt},\n",
    "            {\"role\": \"user\", \"content\": get_links_user_prompt(website)}\n",
    "      ],\n",
    "        response_format={\"type\": \"json_object\"}\n",
    "    )\n",
    "    result = response.choices[0].message.content\n",
    "    return json.loads(result)"
   ]
  },
  {
   "cell_type": "code",
   "execution_count": 10,
   "id": "74a827a0-2782-4ae5-b210-4a242a8b4cc2",
   "metadata": {},
   "outputs": [
    {
     "data": {
      "text/plain": [
       "['/',\n",
       " '/models',\n",
       " '/datasets',\n",
       " '/spaces',\n",
       " '/posts',\n",
       " '/docs',\n",
       " '/enterprise',\n",
       " '/pricing',\n",
       " '/login',\n",
       " '/join',\n",
       " '/blog/inference-providers',\n",
       " '/spaces',\n",
       " '/models',\n",
       " '/deepseek-ai/DeepSeek-R1',\n",
       " '/Zyphra/Zonos-v0.1-hybrid',\n",
       " '/hexgrad/Kokoro-82M',\n",
       " '/deepseek-ai/Janus-Pro-7B',\n",
       " '/deepseek-ai/DeepSeek-V3',\n",
       " '/models',\n",
       " '/spaces/deepseek-ai/Janus-Pro-7B',\n",
       " '/spaces/black-forest-labs/FLUX.1-dev',\n",
       " '/spaces/tencent/Hunyuan3D-2',\n",
       " '/spaces/deepseek-ai/deepseek-vl2-small',\n",
       " '/spaces/JeffreyXiang/TRELLIS',\n",
       " '/spaces',\n",
       " '/datasets/open-r1/OpenR1-Math-220k',\n",
       " '/datasets/open-thoughts/OpenThoughts-114k',\n",
       " '/datasets/simplescaling/s1K',\n",
       " '/datasets/fka/awesome-chatgpt-prompts',\n",
       " '/datasets/saiyan-world/Goku-MovieGenBench',\n",
       " '/datasets',\n",
       " '/join',\n",
       " '/pricing#endpoints',\n",
       " '/pricing#spaces',\n",
       " '/pricing',\n",
       " '/enterprise',\n",
       " '/enterprise',\n",
       " '/enterprise',\n",
       " '/enterprise',\n",
       " '/enterprise',\n",
       " '/enterprise',\n",
       " '/enterprise',\n",
       " '/allenai',\n",
       " '/facebook',\n",
       " '/amazon',\n",
       " '/google',\n",
       " '/Intel',\n",
       " '/microsoft',\n",
       " '/grammarly',\n",
       " '/Writer',\n",
       " '/docs/transformers',\n",
       " '/docs/diffusers',\n",
       " '/docs/safetensors',\n",
       " '/docs/huggingface_hub',\n",
       " '/docs/tokenizers',\n",
       " '/docs/peft',\n",
       " '/docs/transformers.js',\n",
       " '/docs/timm',\n",
       " '/docs/trl',\n",
       " '/docs/datasets',\n",
       " '/docs/text-generation-inference',\n",
       " '/docs/accelerate',\n",
       " '/models',\n",
       " '/datasets',\n",
       " '/spaces',\n",
       " '/tasks',\n",
       " 'https://ui.endpoints.huggingface.co',\n",
       " '/chat',\n",
       " '/huggingface',\n",
       " '/brand',\n",
       " '/terms-of-service',\n",
       " '/privacy',\n",
       " 'https://apply.workable.com/huggingface/',\n",
       " 'mailto:press@huggingface.co',\n",
       " '/learn',\n",
       " '/docs',\n",
       " '/blog',\n",
       " 'https://discuss.huggingface.co',\n",
       " 'https://status.huggingface.co/',\n",
       " 'https://github.com/huggingface',\n",
       " 'https://twitter.com/huggingface',\n",
       " 'https://www.linkedin.com/company/huggingface/',\n",
       " '/join/discord']"
      ]
     },
     "execution_count": 10,
     "metadata": {},
     "output_type": "execute_result"
    }
   ],
   "source": [
    "# Anthropic has made their site harder to scrape, so I'm using HuggingFace..\n",
    "\n",
    "huggingface = Website(\"https://huggingface.co\")\n",
    "huggingface.links"
   ]
  },
  {
   "cell_type": "code",
   "execution_count": 11,
   "id": "d3d583e2-dcc4-40cc-9b28-1e8dbf402924",
   "metadata": {},
   "outputs": [
    {
     "data": {
      "text/plain": [
       "{'links': [{'type': 'about page', 'url': 'https://huggingface.co/huggingface'},\n",
       "  {'type': 'careers page', 'url': 'https://apply.workable.com/huggingface/'},\n",
       "  {'type': 'company page',\n",
       "   'url': 'https://www.linkedin.com/company/huggingface/'},\n",
       "  {'type': 'blog page', 'url': 'https://huggingface.co/blog'},\n",
       "  {'type': 'enterprise page', 'url': 'https://huggingface.co/enterprise'},\n",
       "  {'type': 'pricing page', 'url': 'https://huggingface.co/pricing'}]}"
      ]
     },
     "execution_count": 11,
     "metadata": {},
     "output_type": "execute_result"
    }
   ],
   "source": [
    "get_links(\"https://huggingface.co\")"
   ]
  },
  {
   "cell_type": "markdown",
   "id": "0d74128e-dfb6-47ec-9549-288b621c838c",
   "metadata": {},
   "source": [
    "## Second step: make the brochure!\n",
    "\n",
    "Assemble all the details into another prompt to GPT4-o"
   ]
  },
  {
   "cell_type": "code",
   "execution_count": 12,
   "id": "85a5b6e2-e7ef-44a9-bc7f-59ede71037b5",
   "metadata": {},
   "outputs": [],
   "source": [
    "def get_all_details(url):\n",
    "    result = \"Landing page:\\n\"\n",
    "    result += Website(url).get_contents()\n",
    "    links = get_links(url)\n",
    "    print(\"Found links:\", links)\n",
    "    for link in links[\"links\"]:\n",
    "        result += f\"\\n\\n{link['type']}\\n\"\n",
    "        result += Website(link[\"url\"]).get_contents()\n",
    "    return result"
   ]
  },
  {
   "cell_type": "code",
   "execution_count": null,
   "id": "5099bd14-076d-4745-baf3-dac08d8e5ab2",
   "metadata": {},
   "outputs": [],
   "source": [
    "print(get_all_details(\"https://huggingface.co\"))"
   ]
  },
  {
   "cell_type": "code",
   "execution_count": 14,
   "id": "9b863a55-f86c-4e3f-8a79-94e24c1a8cf2",
   "metadata": {},
   "outputs": [],
   "source": [
    "system_prompt = \"You are an assistant that analyzes the contents of several relevant pages from a company website \\\n",
    "and creates a short brochure about the company for prospective customers, investors and recruits. Respond in markdown.\\\n",
    "Include details of company culture, customers and careers/jobs if you have the information.\"\n",
    "\n",
    "# Or uncomment the lines below for a more humorous brochure - this demonstrates how easy it is to incorporate 'tone':\n",
    "\n",
    "# system_prompt = \"You are an assistant that analyzes the contents of several relevant pages from a company website \\\n",
    "# and creates a short humorous, entertaining, jokey brochure about the company for prospective customers, investors and recruits. Respond in markdown.\\\n",
    "# Include details of company culture, customers and careers/jobs if you have the information.\"\n"
   ]
  },
  {
   "cell_type": "code",
   "execution_count": 15,
   "id": "6ab83d92-d36b-4ce0-8bcc-5bb4c2f8ff23",
   "metadata": {},
   "outputs": [],
   "source": [
    "def get_brochure_user_prompt(company_name, url):\n",
    "    user_prompt = f\"You are looking at a company called: {company_name}\\n\"\n",
    "    user_prompt += f\"Here are the contents of its landing page and other relevant pages; use this information to build a short brochure of the company in markdown.\\n\"\n",
    "    user_prompt += get_all_details(url)\n",
    "    user_prompt = user_prompt[:5_000] # Truncate if more than 5,000 characters\n",
    "    return user_prompt"
   ]
  },
  {
   "cell_type": "code",
   "execution_count": 16,
   "id": "cd909e0b-1312-4ce2-a553-821e795d7572",
   "metadata": {},
   "outputs": [
    {
     "name": "stdout",
     "output_type": "stream",
     "text": [
      "Found links: {'links': [{'type': 'about page', 'url': 'https://huggingface.co/huggingface'}, {'type': 'careers page', 'url': 'https://apply.workable.com/huggingface/'}, {'type': 'company page', 'url': 'https://www.linkedin.com/company/huggingface/'}, {'type': 'blog page', 'url': 'https://huggingface.co/blog'}, {'type': 'docs page', 'url': 'https://huggingface.co/docs'}]}\n"
     ]
    },
    {
     "data": {
      "text/plain": [
       "'You are looking at a company called: HuggingFace\\nHere are the contents of its landing page and other relevant pages; use this information to build a short brochure of the company in markdown.\\nLanding page:\\nWebpage Title:\\nHugging Face – The AI community building the future.\\nWebpage Contents:\\nHugging Face\\nModels\\nDatasets\\nSpaces\\nPosts\\nDocs\\nEnterprise\\nPricing\\nLog In\\nSign Up\\nNEW\\nWelcome to Inference Providers on the Hub 🔥\\nsmolagents - a smol library to build great agents\\nUse models from the HF Hub in LM Studio\\nThe AI community building the future.\\nThe platform where the machine learning community collaborates on models, datasets, and applications.\\nExplore AI Apps\\nor\\nBrowse 1M+ models\\nTrending on\\nthis week\\nModels\\ndeepseek-ai/DeepSeek-R1\\nUpdated\\n4 days ago\\n•\\n3.21M\\n•\\n8.52k\\nZyphra/Zonos-v0.1-hybrid\\nUpdated\\nabout 12 hours ago\\n•\\n2.76k\\n•\\n645\\nhexgrad/Kokoro-82M\\nUpdated\\n11 days ago\\n•\\n400k\\n•\\n3.08k\\ndeepseek-ai/Janus-Pro-7B\\nUpdated\\n12 days ago\\n•\\n391k\\n•\\n2.89k\\ndeepseek-ai/DeepSeek-V3\\nUpdated\\n19 days ago\\n•\\n1.4M\\n•\\n3.37k\\nBrowse 1M+ models\\nSpaces\\nRunning\\non\\nZero\\n1.7k\\n1.7k\\nChat With Janus-Pro-7B\\n🌍\\nA unified multimodal understanding and generation model.\\nRunning\\non\\nZero\\n7.02k\\n7.02k\\nFLUX.1 [dev]\\n🖥\\nGenerate images from text prompts\\nRunning\\non\\nZero\\n1.52k\\n1.52k\\nHunyuan3D-2.0\\n🌍\\nText-to-3D and Image-to-3D Generation\\nRunning\\non\\nZero\\n312\\n312\\nChat with DeepSeek-VL2-small\\n🌍\\nGenerate text based on images and prompts\\nRunning\\non\\nZero\\n3.7k\\n3.7k\\nTRELLIS\\n🏢\\nScalable and Versatile 3D Generation from images\\nBrowse 400k+ applications\\nDatasets\\nopen-r1/OpenR1-Math-220k\\nUpdated\\nabout 4 hours ago\\n•\\n1.93k\\n•\\n198\\nopen-thoughts/OpenThoughts-114k\\nUpdated\\nabout 4 hours ago\\n•\\n51.4k\\n•\\n429\\nsimplescaling/s1K\\nUpdated\\n2 days ago\\n•\\n2.98k\\n•\\n158\\nfka/awesome-chatgpt-prompts\\nUpdated\\nJan 6\\n•\\n11k\\n•\\n7.45k\\nsaiyan-world/Goku-MovieGenBench\\nUpdated\\n1 day ago\\n•\\n17.2k\\n•\\n104\\nBrowse 250k+ datasets\\nThe Home of Machine Learning\\nCreate, discover and collaborate on ML better.\\nThe collaboration platform\\nHost and collaborate on unlimited public models, datasets and applications.\\nMove faster\\nWith the HF Open source stack.\\nExplore all modalities\\nText, image, video, audio or even 3D.\\nBuild your portfolio\\nShare your work with the world and build your ML profile.\\nSign Up\\nAccelerate your ML\\nWe provide paid Compute and Enterprise solutions.\\nCompute\\nDeploy on optimized\\nInference Endpoints\\nor update your\\nSpaces applications\\nto a GPU in a few clicks.\\nView pricing\\nStarting at $0.60/hour for GPU\\nEnterprise\\nGive your team the most advanced platform to build AI with enterprise-grade security, access controls and\\n\\t\\t\\tdedicated support.\\nGetting started\\nStarting at $20/user/month\\nSingle Sign-On\\nRegions\\nPriority Support\\nAudit Logs\\nResource Groups\\nPrivate Datasets Viewer\\nMore than 50,000 organizations are using Hugging Face\\nAi2\\nEnterprise\\nnon-profit\\n•\\n388 models\\n•\\n2.23k followers\\nAI at Meta\\nEnterprise\\ncompany\\n•\\n2.06k models\\n•\\n4.51k followers\\nAmazon Web Services\\ncompany\\n•\\n20 models\\n•\\n2.71k followers\\nGoogle\\ncompany\\n•\\n913 models\\n•\\n7.48k followers\\nIntel\\ncompany\\n•\\n218 models\\n•\\n2.23k followers\\nMicrosoft\\ncompany\\n•\\n355 models\\n•\\n8.28k followers\\nGrammarly\\ncompany\\n•\\n10 models\\n•\\n124 followers\\nWriter\\nEnterprise\\ncompany\\n•\\n18 models\\n•\\n232 followers\\nOur Open Source\\nWe are building the foundation of ML tooling with the community.\\nTransformers\\n139,097\\nState-of-the-art ML for Pytorch, TensorFlow, and JAX.\\nDiffusers\\n27,473\\nState-of-the-art diffusion models for image and audio generation in PyTorch.\\nSafetensors\\n3,090\\nSimple, safe way to store and distribute neural networks weights safely and quickly.\\nHub Python Library\\n2,320\\nClient library for the HF Hub: manage repositories from your Python runtime.\\nTokenizers\\n9,364\\nFast tokenizers, optimized for both research and production.\\nPEFT\\n17,263\\nParameter efficient finetuning methods for large models.\\nTransformers.js\\n12,903\\nState-of-the-art Machine Learning for the web. Run Transformers directly in your browser, with no need for a server.\\ntimm\\n33,125\\nState-of-the-art computer vision models, layers, optimizers, training/evaluation, and utilities.\\nTRL\\n11,499\\nTrain transformer language models with reinforcement learning.\\nDatasets\\n19,600\\nAccess and share datasets for computer vision, audio, and NLP tasks.\\nText Generation Inference\\n9,734\\nToolkit to serve Large Language Models.\\nAccelerate\\n8,302\\nEasily train and use PyTorch models with multi-GPU, TPU, mixed-precision.\\nSystem theme\\nWebsite\\nModels\\nDatasets\\nSpaces\\nTasks\\nInference Endpoints\\nHuggingChat\\nCompany\\nAbout\\nBrand assets\\nTerms of service\\nPrivacy\\nJobs\\nPress\\nResources\\nLearn\\nDocumentation\\nBlog\\nForum\\nService Status\\nSocial\\nGitHub\\nTwitter\\nLinkedIn\\nDiscord\\n\\n\\n\\nabout page\\nWebpage Title:\\nhuggingface (Hugging Face)\\nWebpage Contents:\\nHugging Face\\nModels\\nDatasets\\nSpaces\\nPosts\\nDocs\\nEnterprise\\nPricing\\nLog In\\nSign Up\\nHugging Face\\nEnterprise\\ncompany\\nVerified\\nhttps://huggingface.co\\nhuggingface\\nhuggingface\\nActivity Feed\\nFollow\\n19,124\\nAI & ML interests\\nThe AI community building the future.\\nRecent Activity\\nmfarre\\nupdated\\na dataset\\n33 minutes ago\\nhuggingface/d'"
      ]
     },
     "execution_count": 16,
     "metadata": {},
     "output_type": "execute_result"
    }
   ],
   "source": [
    "get_brochure_user_prompt(\"HuggingFace\", \"https://huggingface.co\")"
   ]
  },
  {
   "cell_type": "code",
   "execution_count": 17,
   "id": "e44de579-4a1a-4e6a-a510-20ea3e4b8d46",
   "metadata": {},
   "outputs": [],
   "source": [
    "def create_brochure(company_name, url):\n",
    "    response = openai.chat.completions.create(\n",
    "        model=MODEL,\n",
    "        messages=[\n",
    "            {\"role\": \"system\", \"content\": system_prompt},\n",
    "            {\"role\": \"user\", \"content\": get_brochure_user_prompt(company_name, url)}\n",
    "          ],\n",
    "    )\n",
    "    result = response.choices[0].message.content\n",
    "    display(Markdown(result))"
   ]
  },
  {
   "cell_type": "code",
   "execution_count": 18,
   "id": "e093444a-9407-42ae-924a-145730591a39",
   "metadata": {},
   "outputs": [
    {
     "name": "stdout",
     "output_type": "stream",
     "text": [
      "Found links: {'links': [{'type': 'about page', 'url': 'https://huggingface.co/huggingface'}, {'type': 'careers page', 'url': 'https://apply.workable.com/huggingface/'}, {'type': 'enterprise page', 'url': 'https://huggingface.co/enterprise'}, {'type': 'pricing page', 'url': 'https://huggingface.co/pricing'}, {'type': 'blog page', 'url': 'https://huggingface.co/blog'}, {'type': 'community discussion page', 'url': 'https://discuss.huggingface.co'}, {'type': 'GitHub page', 'url': 'https://github.com/huggingface'}, {'type': 'Twitter page', 'url': 'https://twitter.com/huggingface'}, {'type': 'LinkedIn page', 'url': 'https://www.linkedin.com/company/huggingface/'}]}\n"
     ]
    },
    {
     "data": {
      "text/markdown": [
       "# Hugging Face Brochure\n",
       "\n",
       "## Company Overview\n",
       "**Hugging Face** is at the forefront of artificial intelligence, fostering a community dedicated to building the future of AI technologies. With a mission to create an open-source platform for machine learning, Hugging Face allows users to host, share, and collaborate on models, datasets, and applications seamlessly. It's a place where innovation meets collaboration, empowering both individuals and organizations to accelerate their machine learning journey.\n",
       "\n",
       "---\n",
       "\n",
       "## Our Platform\n",
       "- **Models**: Explore a diverse collection of over **1 million models**, including state-of-the-art models for various AI applications.\n",
       "- **Datasets**: Access and share more than **250,000 datasets** dedicated to numerous machine learning tasks including natural language processing (NLP), computer vision, and more.\n",
       "- **Spaces**: Utilize collaborative Spaces to create and deploy AI applications effortlessly.\n",
       "\n",
       "With cutting-edge tools such as **Transformers**, **Diffusers**, and various libraries for ease of use, Hugging Face provides the necessary infrastructure for developers and researchers to push the boundaries of AI.\n",
       "\n",
       "---\n",
       "\n",
       "## Collaborate and Innovate\n",
       "**Hugging Face** proudly hosts a vibrant community where:\n",
       "- **50,000+ Organizations** leverage our platform, including notable names like **Meta, AWS, Google,** and **Microsoft**.\n",
       "- Users can contribute through posts, updates, and discussions, enhancing the collective knowledge base.\n",
       "- Individuals can showcase their work, building a compelling portfolio within the AI and ML landscape.\n",
       "\n",
       "---\n",
       "\n",
       "## Our Culture\n",
       "Hugging Face is built on a foundation of collaboration and innovation. We believe that the best advancements in AI come from open discussions and contributions. Our team values:\n",
       "- **Transparency** and **Inclusivity**: Ensuring everyone has a voice in the community.\n",
       "- **Continuous Learning**: Encouraging team members to grow through knowledge-sharing and professional development.\n",
       "- **Community Engagement**: Building relationships with users and developers to co-create AI solutions.\n",
       "\n",
       "---\n",
       "\n",
       "## Careers at Hugging Face\n",
       "At Hugging Face, we are always looking for passionate individuals who are enthusiastic about AI and machine learning. Join our dynamic team and work on exciting projects that influence the future of technology. We offer roles spanning across engineering, research, product design, and community engagement. \n",
       "\n",
       "**Benefits of working with us include:**\n",
       "- An inclusive work environment\n",
       "- Opportunities for personal and professional development\n",
       "- A chance to make a significant impact in the AI community\n",
       "\n",
       "**Interested in joining?** Visit our [Jobs page](https://huggingface.co/jobs) to find current openings.\n",
       "\n",
       "---\n",
       "\n",
       "## Connect with Us\n",
       "For more information, to explore our tools, or to join the community, visit our website [Hugging Face](https://huggingface.co).\n",
       "\n",
       "Join us in building the future of AI together!"
      ],
      "text/plain": [
       "<IPython.core.display.Markdown object>"
      ]
     },
     "metadata": {},
     "output_type": "display_data"
    }
   ],
   "source": [
    "create_brochure(\"HuggingFace\", \"https://huggingface.co\")"
   ]
  },
  {
   "cell_type": "markdown",
   "id": "61eaaab7-0b47-4b29-82d4-75d474ad8d18",
   "metadata": {},
   "source": [
    "## Finally - a minor improvement\n",
    "\n",
    "With a small adjustment, we can change this so that the results stream back from OpenAI,\n",
    "with the familiar typewriter animation"
   ]
  },
  {
   "cell_type": "code",
   "execution_count": 19,
   "id": "51db0e49-f261-4137-aabe-92dd601f7725",
   "metadata": {},
   "outputs": [],
   "source": [
    "def stream_brochure(company_name, url):\n",
    "    stream = openai.chat.completions.create(\n",
    "        model=MODEL,\n",
    "        messages=[\n",
    "            {\"role\": \"system\", \"content\": system_prompt},\n",
    "            {\"role\": \"user\", \"content\": get_brochure_user_prompt(company_name, url)}\n",
    "          ],\n",
    "        stream=True\n",
    "    )\n",
    "    \n",
    "    response = \"\"\n",
    "    display_handle = display(Markdown(\"\"), display_id=True)\n",
    "    for chunk in stream:\n",
    "        response += chunk.choices[0].delta.content or ''\n",
    "        response = response.replace(\"```\",\"\").replace(\"markdown\", \"\")\n",
    "        update_display(Markdown(response), display_id=display_handle.display_id)"
   ]
  },
  {
   "cell_type": "code",
   "execution_count": 20,
   "id": "56bf0ae3-ee9d-4a72-9cd6-edcac67ceb6d",
   "metadata": {},
   "outputs": [
    {
     "name": "stdout",
     "output_type": "stream",
     "text": [
      "Found links: {'links': [{'type': 'home page', 'url': 'https://huggingface.co/'}, {'type': 'about page', 'url': 'https://huggingface.co/huggingface'}, {'type': 'careers page', 'url': 'https://apply.workable.com/huggingface/'}, {'type': 'enterprise page', 'url': 'https://huggingface.co/enterprise'}, {'type': 'pricing page', 'url': 'https://huggingface.co/pricing'}, {'type': 'blog', 'url': 'https://huggingface.co/blog'}, {'type': 'community page', 'url': 'https://discuss.huggingface.co'}, {'type': 'GitHub page', 'url': 'https://github.com/huggingface'}, {'type': 'Twitter page', 'url': 'https://twitter.com/huggingface'}, {'type': 'LinkedIn page', 'url': 'https://www.linkedin.com/company/huggingface/'}]}\n"
     ]
    },
    {
     "data": {
      "text/markdown": [
       "\n",
       "# Hugging Face Brochure\n",
       "\n",
       "Welcome to **Hugging Face** - where the AI community builds the future.\n",
       "\n",
       "## About Us\n",
       "Hugging Face is a groundbreaking collaboration platform, **dedicated to machine learning enthusiasts and professionals**. The platform empowers users to discover, share, and collaborate on **over 1 million models** and **250,000 datasets** for various AI applications. Our mission is to create an open-source ecosystem that facilitates the rapid advancement of AI technology.\n",
       "\n",
       "## Our Offerings\n",
       "\n",
       "### Collaborate & Discover\n",
       "- **Models**: Access a vast collection of machine learning models updated regularly. Collaborate to enhance real-world applications.\n",
       "- **Datasets**: Browse and share datasets to fuel your AI projects. \n",
       "- **Spaces**: Create and deploy applications in our collaborative spaces.\n",
       "\n",
       "### Enterprise Solutions\n",
       "We offer dedicated enterprise packages tailored for organizations looking to leverage AI while ensuring **security** and **support**:\n",
       "- Starting at just **$20/user/month**, gain access to advanced features, dedicated support, and enterprise-grade security.\n",
       "- Deploy compute solutions easily starting at **$0.60/hour for GPU** usage.\n",
       "\n",
       "## Our Customers\n",
       "More than **50,000 organizations** are utilizing Hugging Face, including industry leaders:\n",
       "- Meta\n",
       "- Amazon Web Services\n",
       "- Google\n",
       "- Microsoft\n",
       "- Grammarly\n",
       "\n",
       "## Company Culture\n",
       "At Hugging Face, we believe in the power of **community-driven innovation**. We foster a collaborative and inclusive environment where creativity thrives. Our team embraces **diversity**, **flexibility**, and **teamwork**, ensuring that everyone contributes to building state-of-the-art machine learning technologies.\n",
       "\n",
       "## Career Opportunities\n",
       "Join Hugging Face and be a part of an ambitious team that transforms the AI landscape. We are **always on the lookout** for passionate individuals who wish to make a difference in AI. Explore our job openings on our [careers page](#) and embark on a rewarding journey with us.\n",
       "\n",
       "## Get Started\n",
       "Whether you are a developer, researcher, or enterprise, **getting started with Hugging Face** is simple. Sign up [here](#) to create your profile, explore models, and engage with the community.\n",
       "\n",
       "---\n",
       "\n",
       "*Connect with us*:\n",
       "- [Twitter](#)\n",
       "- [LinkedIn](#)\n",
       "- [GitHub](#)\n",
       "- [Discord](#)\n",
       "\n",
       "Join us in shaping the future of AI, one model at a time!\n"
      ],
      "text/plain": [
       "<IPython.core.display.Markdown object>"
      ]
     },
     "metadata": {},
     "output_type": "display_data"
    }
   ],
   "source": [
    "stream_brochure(\"HuggingFace\", \"https://huggingface.co\")"
   ]
  },
  {
   "cell_type": "code",
   "execution_count": null,
   "id": "fdb3f8d8-a3eb-41c8-b1aa-9f60686a653b",
   "metadata": {},
   "outputs": [],
   "source": [
    "# Try changing the system prompt to the humorous version when you make the Brochure for Hugging Face:\n",
    "\n",
    "stream_brochure(\"HuggingFace\", \"https://huggingface.co\")"
   ]
  },
  {
   "cell_type": "markdown",
   "id": "cc4bf76d-5ed4-495a-a666-1e3744442220",
   "metadata": {},
   "source": [
    "### Week 1 Challenges"
   ]
  },
  {
   "cell_type": "code",
   "execution_count": 26,
   "id": "7bdd61c9-aca2-4c2c-a971-d5bcbcc310ba",
   "metadata": {},
   "outputs": [],
   "source": [
    "# Using a multi shot system prompt!\n",
    "link_system_prompt = \"You are provided with a list of links found on a webpage. \\\n",
    "You are able to decide which of the links would be most relevant to include in a brochure about the company, \\\n",
    "such as links to an About page, or a Company page, or Careers/Jobs pages.\\n\"\n",
    "link_system_prompt += \"You should respond in JSON as in the following examples:\"\n",
    "link_system_prompt += \"\"\"\\nFor the first example, given the following list of website links:\n",
    "\n",
    "[\n",
    " '/models',\n",
    " '/datasets',\n",
    " '/spaces',\n",
    " '/posts',\n",
    " '/docs',\n",
    " '/enterprise',\n",
    " '/pricing',\n",
    " '/login',\n",
    " '/join',\n",
    " '/blog/inference-providers',\n",
    " '/spaces',\n",
    " '/models',\n",
    " '/deepseek-ai/DeepSeek-R1',\n",
    " '/Zyphra/Zonos-v0.1-hybrid',\n",
    " '/hexgrad/Kokoro-82M',\n",
    " '/deepseek-ai/Janus-Pro-7B',\n",
    " '/deepseek-ai/DeepSeek-V3',\n",
    " '/models',\n",
    " '/spaces/deepseek-ai/Janus-Pro-7B',\n",
    " '/spaces/black-forest-labs/FLUX.1-dev',\n",
    " '/spaces/tencent/Hunyuan3D-2',\n",
    " '/spaces/deepseek-ai/deepseek-vl2-small',\n",
    " '/spaces/JeffreyXiang/TRELLIS',\n",
    " '/spaces',\n",
    " '/join',\n",
    " '/pricing',\n",
    " '/enterprise',\n",
    " '/datasets',\n",
    "]\n",
    "\n",
    "\n",
    "You should respond with a json object like the following:\n",
    "{\n",
    "    \"links\": [\n",
    "        {\"type\": \"about page\", \"url\": \"https://full.url/goes/here/about\"},\n",
    "        {\"type\": \"careers page\": \"url\": \"https://another.full.url/careers\"},\n",
    "        {\"type\": \"enterprise page\": \"url\": \"https://another.full.url/enterprise\"}\n",
    "    ]\n",
    "}\n",
    "\"\"\"\n",
    "link_system_prompt += \"\"\"\\n For the second example, given a list of website links like the following:\n",
    "\n",
    "[\n",
    " 'https://www.nvidia.com',\n",
    " '#page-content',\n",
    " 'https://www.nvidia.com/en-gb/',\n",
    " 'https://www.nvidia.com/en-gb/geforce/graphics-cards/50-series/',\n",
    " 'https://www.nvidia.com/en-gb/geforce/laptops/50-series/',\n",
    " 'https://www.nvidia.com/en-gb/geforce/products/g-sync-monitors/',\n",
    " 'https://www.nvidia.com/en-gb/studio/laptops-desktops/',\n",
    " 'https://www.nvidia.com/en-gb/shield/',\n",
    " 'https://www.nvidia.com/en-gb/ai-on-rtx/',\n",
    " 'https://www.nvidia.com/en-gb/geforce/laptops/50-series/',\n",
    " 'https://www.nvidia.com/en-gb/design-visualization/rtx-professional-laptops/',\n",
    " 'https://www.nvidia.com/en-gb/design-visualization/desktop-graphics/',\n",
    " 'https://www.nvidia.com/en-gb/project-digits/',\n",
    " 'https://www.nvidia.com/en-gb/ai-data-science/workstations/',\n",
    " 'https://www.nvidia.com/en-gb/data-center/',\n",
    " 'https://www.nvidia.com/en-gb/data-center/grace-cpu/',\n",
    " 'https://www.nvidia.com/en-gb/data-center/dgx-platform/',\n",
    " 'https://www.nvidia.com/en-gb/data-center/products/egx/',\n",
    " 'https://www.nvidia.com/en-gb/edge-computing/products/igx/',\n",
    " 'https://www.nvidia.com/en-gb/data-center/hgx/',\n",
    " 'https://www.nvidia.com/en-gb/data-center/products/mgx/',\n",
    " 'https://www.nvidia.com/en-gb/omniverse/platform/ovx/',\n",
    " 'https://www.nvidia.com/en-gb/self-driving-cars/simulation/',\n",
    " 'https://www.nvidia.com/en-gb/networking/',\n",
    " 'https://www.nvidia.com/en-gb/networking/products/data-processing-unit/',\n",
    " 'https://www.nvidia.com/en-gb/networking/products/ethernet/',\n",
    " 'https://www.nvidia.com/en-gb/networking/products/infiniband/',\n",
    " 'https://www.nvidia.com/en-gb/geforce/graphics-cards/50-series/',\n",
    " 'https://www.nvidia.com/en-gb/design-visualization/rtx/',\n",
    " 'https://www.nvidia.com/en-gb/data-center/technologies/hopper-architecture/',\n",
    "]\n",
    "\n",
    "\n",
    "You should respond with a json object like the following:\n",
    "\n",
    "\"links\": [\n",
    "        {\"type\": \"shield page\", \"url\": \"https://www.nvidia.com/en-gb/shield/\"},\n",
    "        {\"type\": \"data center page\": \"url\": \"https://www.nvidia.com/en-gb/data-center/\"},\n",
    "        {\"type\": \"networking page\": \"url\": \"https://www.nvidia.com/en-gb/networking\"},\n",
    "        {\"type\": \"ethernet prodcut page\": \"url\": \"https://www.nvidia.com/en-gb/networking/products/ethernet\"}\n",
    "    ]\n",
    "\n",
    "\"\"\""
   ]
  },
  {
   "cell_type": "code",
   "execution_count": 27,
   "id": "ff60b37b-2238-4989-a83e-a2b997148744",
   "metadata": {},
   "outputs": [
    {
     "data": {
      "text/plain": [
       "{'links': [{'type': 'about page',\n",
       "   'url': 'https://www.nvidia.com/en-gb/about-nvidia/'},\n",
       "  {'type': 'careers page',\n",
       "   'url': 'https://www.nvidia.com/en-gb/about-nvidia/careers/'},\n",
       "  {'type': 'executive insights page',\n",
       "   'url': 'https://www.nvidia.com/en-gb/executive-insights/'},\n",
       "  {'type': 'investor relations page',\n",
       "   'url': 'https://investor.nvidia.com/home/default.aspx'},\n",
       "  {'type': 'company policies page',\n",
       "   'url': 'https://www.nvidia.com/en-gb/about-nvidia/company-policies/'},\n",
       "  {'type': 'community page', 'url': 'https://www.nvidia.com/en-us/community/'},\n",
       "  {'type': 'partnerships page',\n",
       "   'url': 'https://www.nvidia.com/en-gb/about-nvidia/partners/'}]}"
      ]
     },
     "execution_count": 27,
     "metadata": {},
     "output_type": "execute_result"
    }
   ],
   "source": [
    "# Using the multi-shot prompt defined above!\n",
    "get_links(\"https://www.nvidia.com/en-gb/\")"
   ]
  },
  {
   "cell_type": "code",
   "execution_count": 28,
   "id": "56c79041-4e0f-451b-b029-4874435b60e3",
   "metadata": {},
   "outputs": [
    {
     "name": "stdout",
     "output_type": "stream",
     "text": [
      "Found links: {'links': [{'type': 'about page', 'url': 'https://www.nvidia.com/en-gb/about-nvidia/'}, {'type': 'careers page', 'url': 'https://www.nvidia.com/en-gb/about-nvidia/careers/'}, {'type': 'executive insights page', 'url': 'https://www.nvidia.com/en-gb/executive-insights/'}, {'type': 'foundation page', 'url': 'https://www.nvidia.com/en-us/foundation/'}, {'type': 'research page', 'url': 'https://www.nvidia.com/en-us/research/'}, {'type': 'csr page', 'url': 'https://www.nvidia.com/en-us/csr/'}, {'type': 'events page', 'url': 'https://www.nvidia.com/en-gb/events/'}, {'type': 'investor relations page', 'url': 'https://investor.nvidia.com/home/default.aspx'}, {'type': 'training page', 'url': 'https://www.nvidia.com/en-gb/training/'}]}\n"
     ]
    },
    {
     "data": {
      "text/markdown": [
       "# NVIDIA Company Brochure\n",
       "\n",
       "## Overview\n",
       "NVIDIA is a world leader in artificial intelligence computing, known for its innovative products and technologies designed to accelerate computing across various domains. From gaming to healthcare, NVIDIA's cutting-edge solutions drive advancements in graphics processing, cloud computing, and AI.\n",
       "\n",
       "## Products & Solutions\n",
       "NVIDIA's extensive product portfolio includes:\n",
       "\n",
       "- **Graphics Cards**: GeForce for gaming and professional use, RTX technology for real-time ray tracing.\n",
       "- **Cloud & Data Center Solutions**: DGX and EGX platforms for AI workloads and accelerated computing.\n",
       "- **AI Solutions**: Tools for AI inference, machine learning, generative AI, and more.\n",
       "- **Automotive Technologies**: Self-driving vehicle solutions, in-vehicle computing, and automated driving systems.\n",
       "\n",
       "## Customer Focus\n",
       "NVIDIA serves a diverse range of industries, including:\n",
       "- **Gaming**: Powering immersive gaming experiences.\n",
       "- **Healthcare**: Enhancing research and diagnostics with AI.\n",
       "- **Automotive**: Developing self-driving technology and smart vehicle systems.\n",
       "- **Supercomputing**: Supporting complex simulation and modeling workloads.\n",
       "- **Media & Entertainment**: Revolutionizing content creation and visualization.\n",
       "\n",
       "## Company Culture\n",
       "At NVIDIA, innovation is at the core of the company culture. Employees enjoy a collaborative environment that encourages creativity and critical thinking. NVIDIA values diversity and inclusivity, believing that a wide range of perspectives leads to better ideas and solutions. Employees are motivated to push the boundaries of technology through continuous learning and development.\n",
       "\n",
       "## Careers & Opportunities\n",
       "NVIDIA is always on the lookout for passionate individuals who are eager to make a difference. Here are some career opportunities:\n",
       "\n",
       "- **Engineering**: Develop the next generation of GPUs and AI technologies.\n",
       "- **Data Science**: Work on cutting-edge analytics and AI modeling.\n",
       "- **Product Management**: Lead innovative product strategy and execution.\n",
       "- **Sales and Marketing**: Drive engagement and outreach for NVIDIA’s solutions.\n",
       "\n",
       "NVIDIA provides competitive salaries, comprehensive benefits, and ample opportunities for professional growth. Join us to be a part of the AI revolution!\n",
       "\n",
       "## Conclusion\n",
       "Whether you are a prospective customer seeking advanced technology solutions, an investor looking for a robust business with high growth potential, or a recruit aspiring to innovate in the tech industry, NVIDIA is dedicated to shaping the future of computing and AI.\n",
       "\n",
       "Discover more at [NVIDIA](https://www.nvidia.com).\n",
       "\n",
       "--- \n",
       "\n",
       "Feel free to customize this brochure further as per your needs!"
      ],
      "text/plain": [
       "<IPython.core.display.Markdown object>"
      ]
     },
     "metadata": {},
     "output_type": "display_data"
    }
   ],
   "source": [
    "stream_brochure(\"Nvidia\", \"https://nvidia.com\")"
   ]
  },
  {
   "cell_type": "code",
   "execution_count": 46,
   "id": "e819f30e-df83-4753-b3e2-eef4ca663517",
   "metadata": {},
   "outputs": [],
   "source": [
    "# Changing the system and user prompt to request the Brochure in a particular format!\n",
    "formatted_system_prompt = \"You are an assistant that analyzes the contents of several relevant pages from a company website \\\n",
    "and creates a short brochure about the company for prospective customers, investors and recruits. Respond in markdown.\\\n",
    "Include details of company culture, customers and careers/jobs if you have the information.\\\n",
    "Return the Brocher in the following format using only three sections to effectively convey the most relevant information:\\n\"\n",
    "formatted_system_prompt += \"# <Brochure Title>\\n***Created by BrochureBot***\\n\\n<Section 1 Title>\\n<text>\\n\\n<Section 2 Title>\\n<text>\\n\\n<Section 3 Title>\\n<text>\"\n",
    "\n",
    "def get_formatted_brochure_user_prompt(company_name, url):\n",
    "    user_prompt = f\"You are looking at a company called: {company_name}\\n\"\n",
    "    user_prompt += f\"Here are the contents of its landing page and other relevant pages; use this information to build a short brochure of the company in markdown.\\n\"\n",
    "    user_prompt += f\"Make sure to follow the correct format of the Brochure.\"\n",
    "    user_prompt += get_all_details(url)\n",
    "    user_prompt = user_prompt[:5_000] # Truncate if more than 5,000 characters\n",
    "    return user_prompt\n",
    "\n",
    "def create_formatted_brochure(company_name, url):\n",
    "    response = openai.chat.completions.create(\n",
    "        model=MODEL,\n",
    "        messages=[\n",
    "            {\"role\": \"system\", \"content\": formatted_system_prompt},\n",
    "            {\"role\": \"user\", \"content\": get_formatted_brochure_user_prompt(company_name, url)}\n",
    "          ],\n",
    "    )\n",
    "    result = response.choices[0].message.content\n",
    "    return result\n",
    "\n",
    "def stream_formatted_brochure(company_name, url):\n",
    "    stream = openai.chat.completions.create(\n",
    "        model=MODEL,\n",
    "        messages=[\n",
    "            {\"role\": \"system\", \"content\": formatted_system_prompt},\n",
    "            {\"role\": \"user\", \"content\": get_formatted_brochure_user_prompt(company_name, url)}\n",
    "          ],\n",
    "        stream=True\n",
    "    )\n",
    "    \n",
    "    response = \"\"\n",
    "    display_handle = display(Markdown(\"\"), display_id=True)\n",
    "    for chunk in stream:\n",
    "        response += chunk.choices[0].delta.content or ''\n",
    "        response = response.replace(\"```\",\"\").replace(\"markdown\", \"\")\n",
    "        update_display(Markdown(response), display_id=display_handle.display_id)"
   ]
  },
  {
   "cell_type": "code",
   "execution_count": 47,
   "id": "3288d511-bccd-45d5-ba6d-f08e7eece2e8",
   "metadata": {},
   "outputs": [
    {
     "name": "stdout",
     "output_type": "stream",
     "text": [
      "Found links: {'links': [{'type': 'about page', 'url': 'https://www.nvidia.com/en-gb/about-nvidia/'}, {'type': 'careers page', 'url': 'https://www.nvidia.com/en-gb/about-nvidia/careers/'}, {'type': 'executive insights page', 'url': 'https://www.nvidia.com/en-gb/executive-insights/'}, {'type': 'programs page', 'url': 'https://www.nvidia.com/en-us/programs/isv/'}, {'type': 'training page', 'url': 'https://www.nvidia.com/en-gb/training/'}]}\n"
     ]
    },
    {
     "data": {
      "text/markdown": [
       "# Discover NVIDIA: Pioneers in AI Computing\n",
       "***Created by BrochureBot***\n",
       "\n",
       "## Innovation and Leadership\n",
       "NVIDIA stands at the forefront of artificial intelligence and computing technology. Renowned as the world leader in AI computing, NVIDIA develops powerful GPUs, high-performance computing solutions, and advanced AI platforms. Their product range caters to various industries including automotive, healthcare, gaming, and data-centric sectors. From desktop graphics cards to AI inference and cloud solutions, NVIDIA empowers businesses with robust technology to drive innovation.\n",
       "\n",
       "## Company Culture and Values\n",
       "At NVIDIA, a culture of continuous learning, diversity, and collaboration thrives. The company encourages creativity and innovation among its employees, fostering an environment where ideas can flourish. Employees are passionate about technology and dedicated to transforming the way we interact with the world through AI and graphics. NVIDIA believes in inclusivity and supports initiatives that promote well-being, making it a great place to work for enthusiasts and experts alike.\n",
       "\n",
       "## Careers at NVIDIA\n",
       "NVIDIA offers a variety of career opportunities for individuals seeking to make an impact in the tech world. Whether you're a developer, researcher, designer, or in business operations, NVIDIA seeks talented and innovative individuals ready to push the boundaries of technology. Employees benefit from competitive compensation, professional development, and the chance to work on groundbreaking projects that shape the future of artificial intelligence and computer graphics. Join the NVIDIA team to be part of a legacy that defines technological progress."
      ],
      "text/plain": [
       "<IPython.core.display.Markdown object>"
      ]
     },
     "metadata": {},
     "output_type": "display_data"
    }
   ],
   "source": [
    "stream_formatted_brochure('Nvidia', 'https://www.nvidia.com')"
   ]
  },
  {
   "cell_type": "code",
   "execution_count": 48,
   "id": "704d8139-88ec-4add-9dff-5855e09bcf3a",
   "metadata": {},
   "outputs": [
    {
     "name": "stdout",
     "output_type": "stream",
     "text": [
      "Found links: {'links': [{'type': 'homepage', 'url': 'https://www.anduril.com/'}, {'type': 'careers page', 'url': 'https://www.anduril.com/careers/'}, {'type': 'internships page', 'url': 'https://www.anduril.com/internships-at-anduril/'}, {'type': 'mission page', 'url': 'https://www.anduril.com/mission/'}, {'type': 'newsroom page', 'url': 'https://www.anduril.com/newsroom/'}, {'type': 'media page', 'url': 'https://www.anduril.com/media/'}]}\n"
     ]
    },
    {
     "data": {
      "text/markdown": [
       "# Anduril Industries: Pioneering Defense Technology\n",
       "***Created by BrochureBot***\n",
       "\n",
       "## Innovative Military Solutions\n",
       "Anduril Industries is transforming U.S. and allied military capabilities through advanced technology. Our flagship system, Lattice, powers a family of autonomous systems that provide robust command and control, mission autonomy, and persistent security across air, land, and sea. This includes a range of products such as unmanned aerial vehicles (UAVs) like the Bolt and Barracuda, and advanced underwater vehicles like Dive-XL, engineered for various intelligence, surveillance, and reconnaissance missions. Additionally, we supply next-generation solid rocket motors, ensuring our military remains at the forefront of innovation.\n",
       "\n",
       "## Empowering Company Culture\n",
       "At Anduril, we embrace a culture that values collaboration between skilled professionals and veterans who have firsthand experience with military challenges. We seek thinkers and doers who can work interdependently, encouraging a dynamic work environment that promotes creative problem solving. With a commitment to hiring emerging talent and integrating efforts through initiatives like the SkillBridge program, we equip our team members with the tools needed to drive technological advancements in defense.\n",
       "\n",
       "## Career Opportunities and Growth\n",
       "Anduril is hiring! We offer a variety of career paths for talented individuals passionate about technology and defense. Our positions include roles in engineering, operations, and product development, providing opportunities for impactful work that supports warfighters. Check our careers page for open roles and discover how you can join our mission to enhance military capabilities with cutting-edge technology. Join us at Anduril, where your work matters and drives change."
      ],
      "text/plain": [
       "<IPython.core.display.Markdown object>"
      ]
     },
     "metadata": {},
     "output_type": "display_data"
    }
   ],
   "source": [
    "stream_formatted_brochure('Anduril', 'https://www.anduril.com/')"
   ]
  },
  {
   "cell_type": "code",
   "execution_count": 49,
   "id": "b60d4d0f-72e1-459b-a0f7-df28398b4368",
   "metadata": {},
   "outputs": [],
   "source": [
    "# Make a third call to an LLM to tranlate the entire brochure to French! \n",
    "translator_system_prompt = \"You are an assistant which specialises in translating business brochures into French.\\\n",
    "You will be supplied with a Brochure in markdown format, translate the entirety of the Brochure into French.\\\n",
    "Return the translated brochure in markdown format and respecting the original formatting of the Brochure.\"\n",
    "\n",
    "def get_translator_user_prompt(company_name, url):\n",
    "    user_prompt = f\"The following is a bussiness brochure for the company {company_name}.\"\n",
    "    user_prompt += f\"Please translate the entirety of the brochure into French, make sure to respect the original markdown formatting.\"\n",
    "    user_prompt += f\"Original Brochure:\\n\\n\"\n",
    "    user_prompt += create_formatted_brochure(company_name, url)\n",
    "    return user_prompt[:10000] # Truncate if more than 10000 chars just in case\n",
    "\n",
    "\n",
    "def stream_translated_brochure(company_name, url):\n",
    "    stream = openai.chat.completions.create(\n",
    "        model=MODEL,\n",
    "        messages=[\n",
    "            {\"role\": \"system\", \"content\": translator_system_prompt},\n",
    "            {\"role\": \"user\", \"content\": get_translator_user_prompt(company_name, url)}\n",
    "        ],\n",
    "        stream=True\n",
    "    )\n",
    "    response = ''\n",
    "    display_handle = display(Markdown(\"\"), display_id=True)\n",
    "    for chunk in stream:\n",
    "        response += chunk.choices[0].delta.content or ''\n",
    "        response = response.replace(\"```\",\"\").replace(\"markdown\", \"\")\n",
    "        update_display(Markdown(response), display_id=display_handle.display_id)"
   ]
  },
  {
   "cell_type": "code",
   "execution_count": 50,
   "id": "adb7d469-7604-410a-a6e2-a924055fb458",
   "metadata": {},
   "outputs": [
    {
     "name": "stdout",
     "output_type": "stream",
     "text": [
      "Found links: {'links': [{'type': 'about page', 'url': 'https://www.nvidia.com/en-gb/about-nvidia/'}, {'type': 'careers page', 'url': 'https://www.nvidia.com/en-gb/about-nvidia/careers/'}, {'type': 'executive insights page', 'url': 'https://www.nvidia.com/en-gb/executive-insights/'}, {'type': 'events page', 'url': 'https://www.nvidia.com/en-us/events/'}, {'type': 'research page', 'url': 'https://www.nvidia.com/en-us/research/'}, {'type': 'corporate brief pdf', 'url': 'https://www.nvidia.com/content/dam/en-zz/Solutions/about-nvidia/corporate-nvidia-in-brief.pdf'}, {'type': 'NVIDIA story pdf', 'url': 'https://images.nvidia.com/pdf/NVIDIA-Story.pdf'}, {'type': 'training page', 'url': 'https://www.nvidia.com/en-gb/training/'}]}\n"
     ]
    },
    {
     "name": "stderr",
     "output_type": "stream",
     "text": [
      "Some characters could not be decoded, and were replaced with REPLACEMENT CHARACTER.\n",
      "Some characters could not be decoded, and were replaced with REPLACEMENT CHARACTER.\n"
     ]
    },
    {
     "data": {
      "text/markdown": [
       "# Découvrez NVIDIA : À la tête de l'avenir de l'informatique AI\n",
       "***Créé par BrochureBot***\n",
       "\n",
       "## Aperçu de l'entreprise\n",
       "NVIDIA se positionne comme un leader mondial dans l'informatique par intelligence artificielle, pionnier des avancées dans de nombreuses industries, notamment le jeu vidéo, les centres de données, l'automobile, la santé, et bien d'autres. Avec une gamme diversifiée de produits tels que des cartes graphiques GeForce, des plateformes AI puissantes et des services cloud dédiés, NVIDIA fournit des solutions à la pointe de la technologie, conçues pour répondre aux exigences de l'informatique moderne. Nos principaux domaines d'intervention incluent l'IA et l'apprentissage automatique, l'informatique haute performance, la robotique et le métavers en évolution.\n",
       "\n",
       "## Culture d'entreprise\n",
       "Chez NVIDIA, nous cultivons une culture d'entreprise innovante et inclusive, animée par une passion commune pour la technologie et l'excellence. Nous valorisons la créativité, encourageons la collaboration et privilégions la croissance professionnelle. Notre équipe est composée de talents divers venus du monde entier, travaillant ensemble pour résoudre certains des problèmes les plus difficiles de la planète. Nous croyons en la nécessité de maintenir un environnement de travail qui inspire et habilite nos employés, soutenu par des programmes qui promeuvent la diversité, la durabilité et l'équilibre entre vie professionnelle et vie privée.\n",
       "\n",
       "## Carrières chez NVIDIA\n",
       "Rejoignez-nous chez NVIDIA et faites partie d'une équipe pionnière qui façonne l'avenir de la technologie. Nous offrons des opportunités de carrière passionnantes dans divers domaines, allant de l'ingénierie aux ventes et au marketing. Avec de nombreuses initiatives pour développer les compétences et valoriser les talents, nous nous engageons à recruter les meilleures esprits et à favoriser leur croissance au sein de l'entreprise. Explorez votre potentiel avec nous et contribuez à créer des technologies révolutionnaires qui impactent des millions de personnes dans le monde. \n",
       "\n",
       "---"
      ],
      "text/plain": [
       "<IPython.core.display.Markdown object>"
      ]
     },
     "metadata": {},
     "output_type": "display_data"
    }
   ],
   "source": [
    "stream_translated_brochure('Nvidia', 'https://www.nvidia.com')"
   ]
  },
  {
   "cell_type": "markdown",
   "id": "a27bf9e0-665f-4645-b66b-9725e2a959b5",
   "metadata": {},
   "source": [
    "<table style=\"margin: 0; text-align: left;\">\n",
    "    <tr>\n",
    "        <td style=\"width: 150px; height: 150px; vertical-align: middle;\">\n",
    "            <img src=\"../business.jpg\" width=\"150\" height=\"150\" style=\"display: block;\" />\n",
    "        </td>\n",
    "        <td>\n",
    "            <h2 style=\"color:#181;\">Business applications</h2>\n",
    "            <span style=\"color:#181;\">In this exercise we extended the Day 1 code to make multiple LLM calls, and generate a document.\n",
    "\n",
    "This is perhaps the first example of Agentic AI design patterns, as we combined multiple calls to LLMs. This will feature more in Week 2, and then we will return to Agentic AI in a big way in Week 8 when we build a fully autonomous Agent solution.\n",
    "\n",
    "Generating content in this way is one of the very most common Use Cases. As with summarization, this can be applied to any business vertical. Write marketing content, generate a product tutorial from a spec, create personalized email content, and so much more. Explore how you can apply content generation to your business, and try making yourself a proof-of-concept prototype.</span>\n",
    "        </td>\n",
    "    </tr>\n",
    "</table>"
   ]
  },
  {
   "cell_type": "markdown",
   "id": "14b2454b-8ef8-4b5c-b928-053a15e0d553",
   "metadata": {},
   "source": [
    "<table style=\"margin: 0; text-align: left;\">\n",
    "    <tr>\n",
    "        <td style=\"width: 150px; height: 150px; vertical-align: middle;\">\n",
    "            <img src=\"../important.jpg\" width=\"150\" height=\"150\" style=\"display: block;\" />\n",
    "        </td>\n",
    "        <td>\n",
    "            <h2 style=\"color:#900;\">Before you move to Week 2 (which is tons of fun)</h2>\n",
    "            <span style=\"color:#900;\">Please see the week1 EXERCISE notebook for your challenge for the end of week 1. This will give you some essential practice working with Frontier APIs, and prepare you well for Week 2.</span>\n",
    "        </td>\n",
    "    </tr>\n",
    "</table>"
   ]
  },
  {
   "cell_type": "markdown",
   "id": "17b64f0f-7d33-4493-985a-033d06e8db08",
   "metadata": {},
   "source": [
    "<table style=\"margin: 0; text-align: left;\">\n",
    "    <tr>\n",
    "        <td style=\"width: 150px; height: 150px; vertical-align: middle;\">\n",
    "            <img src=\"../resources.jpg\" width=\"150\" height=\"150\" style=\"display: block;\" />\n",
    "        </td>\n",
    "        <td>\n",
    "            <h2 style=\"color:#f71;\">A reminder on 2 useful resources</h2>\n",
    "            <span style=\"color:#f71;\">1. The resources for the course are available <a href=\"https://edwarddonner.com/2024/11/13/llm-engineering-resources/\">here.</a><br/>\n",
    "            2. I'm on LinkedIn <a href=\"https://www.linkedin.com/in/eddonner/\">here</a> and I love connecting with people taking the course!\n",
    "            </span>\n",
    "        </td>\n",
    "    </tr>\n",
    "</table>"
   ]
  },
  {
   "cell_type": "markdown",
   "id": "6f48e42e-fa7a-495f-a5d4-26bfc24d60b6",
   "metadata": {},
   "source": [
    "<table style=\"margin: 0; text-align: left;\">\n",
    "    <tr>\n",
    "        <td style=\"width: 150px; height: 150px; vertical-align: middle;\">\n",
    "            <img src=\"../thankyou.jpg\" width=\"150\" height=\"150\" style=\"display: block;\" />\n",
    "        </td>\n",
    "        <td>\n",
    "            <h2 style=\"color:#090;\">Finally! I have a special request for you</h2>\n",
    "            <span style=\"color:#090;\">\n",
    "                My editor tells me that it makes a MASSIVE difference when students rate this course on Udemy - it's one of the main ways that Udemy decides whether to show it to others. If you're able to take a minute to rate this, I'd be so very grateful! And regardless - always please reach out to me at ed@edwarddonner.com if I can help at any point.\n",
    "            </span>\n",
    "        </td>\n",
    "    </tr>\n",
    "</table>"
   ]
  },
  {
   "cell_type": "code",
   "execution_count": null,
   "id": "b8d3e1a1-ba54-4907-97c5-30f89a24775b",
   "metadata": {},
   "outputs": [],
   "source": []
  }
 ],
 "metadata": {
  "kernelspec": {
   "display_name": "Python 3 (ipykernel)",
   "language": "python",
   "name": "python3"
  },
  "language_info": {
   "codemirror_mode": {
    "name": "ipython",
    "version": 3
   },
   "file_extension": ".py",
   "mimetype": "text/x-python",
   "name": "python",
   "nbconvert_exporter": "python",
   "pygments_lexer": "ipython3",
   "version": "3.11.11"
  }
 },
 "nbformat": 4,
 "nbformat_minor": 5
}
